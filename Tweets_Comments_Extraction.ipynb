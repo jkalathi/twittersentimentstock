{
 "cells": [
  {
   "cell_type": "markdown",
   "metadata": {},
   "source": [
    "# Extracting Tweets and Comments"
   ]
  },
  {
   "cell_type": "code",
   "execution_count": null,
   "metadata": {},
   "outputs": [],
   "source": [
    "import tweepy\n",
    "import json\n",
    "import urllib.request, urllib.error, urllib.parse\n",
    "import pandas as pd\n",
    "import requests\n",
    "from bs4 import BeautifulSoup"
   ]
  },
  {
   "cell_type": "code",
   "execution_count": null,
   "metadata": {},
   "outputs": [],
   "source": [
    "ckey = 'W8m2pHHclp2VGsewYmggATIXF'\n",
    "csecret = '9gNOSYkQIayUIkb0bSwkAznSq4lizRDkcMhLkqRYWhjP0IV9oi'\n",
    "atoken = '1062248841443971072-PyxXIA0Cxjyh6j4XtbVsNiosS6sXsx'\n",
    "asecret = 'ipwgD5lVfmpJTv83OL11tepOLPvlI3KVjFG57quhJbjTc'\n",
    "\n",
    "# the authentication process for tweepy\n",
    "auth = tweepy.OAuthHandler(ckey, csecret)\n",
    "auth.set_access_token(atoken, asecret)\n",
    "api = tweepy.API(auth)\n",
    "#print(api)"
   ]
  },
  {
   "cell_type": "code",
   "execution_count": null,
   "metadata": {},
   "outputs": [],
   "source": [
    "dow_jones = pd.read_csv('dow_jones.csv')\n",
    "ticker = dow_jones['Ticker'].tolist()\n",
    "companies = []\n",
    "for let in ticker:\n",
    "    let = '$'+let\n",
    "    companies.append(let)         #adding $ to ticker symbols"
   ]
  },
  {
   "cell_type": "code",
   "execution_count": null,
   "metadata": {},
   "outputs": [],
   "source": [
    "tweet_text = []\n",
    "tweet_id = []\n",
    "tweet_created = []\n",
    "company = []\n",
    "company_comment = []\n",
    "tweet_comment_date = []\n",
    "tweet_comment = []"
   ]
  },
  {
   "cell_type": "code",
   "execution_count": null,
   "metadata": {},
   "outputs": [],
   "source": [
    "counter = 0\n",
    "for let in companies:\n",
    "    counter +=1\n",
    "    maxid = 99999999999999999999999999999999999999999999999999999999999999999999999999999999999999999999999999999999999999999\n",
    "    for k in range(0 , 10):\n",
    "\n",
    "        if k == 0:\n",
    "            #get the initial tweets:\n",
    "            tweets = api.search( q = let , count = 100)\n",
    "        else:\n",
    "            tweets = api.search(q = let , count = 100, max_id = maxid)\n",
    "\n",
    "        maxid = 99999999999999999999999999999999999999999999999999999999999999999999999999999999999999999999999999999999999999999\n",
    "\n",
    "        for i in range(len(tweets)):\n",
    "            if tweets[i].id < maxid:\n",
    "                maxid = tweets[i].id\n",
    "\n",
    "                a=tweets[i]._json['user']['screen_name']   #@username\n",
    "                b=tweets[i].id                             #tweet id\n",
    "\n",
    "                link = 'https://twitter.com/'+a+'/status/'+str(b)\n",
    "                html = requests.get(link)\n",
    "                soup = BeautifulSoup(html.text, 'lxml')               \n",
    "                #extract the text from these tweets\n",
    "                tweet_text.append(tweets[i].text)                 #extracting tweets\n",
    "                tweet_id.append(tweets[i].id)\n",
    "                tweet_created.append(str(tweets[i].created_at))   #extracting tweet date\n",
    "                company.append(let)\n",
    "                print(len(company),counter,let)\n",
    "                t=soup.find_all('div', class_='content')[1:]\n",
    "                for i in t:\n",
    "                    date = i.find('a', class_='tweet-timestamp js-permalink js-nav js-tooltip')\n",
    "                    comment = i.find('p', class_='TweetTextSize js-tweet-text tweet-text')\n",
    "                    if comment is not None and date is not None:\n",
    "                        date = date.getText()                   #extractng reply date\n",
    "                        comment = comment.getText()             #extracting tweet reply\n",
    "                        tweet_comment.append(comment)          \n",
    "                        tweet_comment_date.append(date)\n",
    "                        company_comment.append(let)\n",
    "\n",
    "        maxid = maxid - 1\n",
    "            "
   ]
  },
  {
   "cell_type": "code",
   "execution_count": null,
   "metadata": {},
   "outputs": [],
   "source": [
    "tweets = pd.DataFrame({'Company':company,'Date':tweet_created,'Tweet':tweet_text})"
   ]
  },
  {
   "cell_type": "code",
   "execution_count": null,
   "metadata": {},
   "outputs": [],
   "source": [
    "comments = pd.DataFrame({'Company':company_comment,'Date':tweet_comment_date, 'Tweet':tweet_comment})"
   ]
  },
  {
   "cell_type": "code",
   "execution_count": null,
   "metadata": {},
   "outputs": [],
   "source": [
    "tweets.to_csv('stocktweets.csv', index=False)\n",
    "comments.to_csv('stockComments.csv',index=False)"
   ]
  },
  {
   "cell_type": "code",
   "execution_count": null,
   "metadata": {},
   "outputs": [],
   "source": []
  }
 ],
 "metadata": {
  "kernelspec": {
   "display_name": "Python 3",
   "language": "python",
   "name": "python3"
  },
  "language_info": {
   "codemirror_mode": {
    "name": "ipython",
    "version": 3
   },
   "file_extension": ".py",
   "mimetype": "text/x-python",
   "name": "python",
   "nbconvert_exporter": "python",
   "pygments_lexer": "ipython3",
   "version": "3.6.7"
  }
 },
 "nbformat": 4,
 "nbformat_minor": 2
}
