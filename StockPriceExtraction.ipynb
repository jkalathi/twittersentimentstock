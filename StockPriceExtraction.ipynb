{
 "cells": [
  {
   "cell_type": "markdown",
   "metadata": {},
   "source": [
    "# Extracting stock prices of individual companies"
   ]
  },
  {
   "cell_type": "code",
   "execution_count": 1,
   "metadata": {},
   "outputs": [],
   "source": [
    "import datetime as dt\n",
    "import pandas as pd\n",
    "import pandas_datareader.data as web\n",
    "start=dt.datetime(2018,11,16)\n",
    "end=dt.datetime(2018,11,30)"
   ]
  },
  {
   "cell_type": "code",
   "execution_count": 2,
   "metadata": {},
   "outputs": [],
   "source": [
    "dates = ['2018-11-16','2018-11-19','2018-11-20','2018-11-21','2018-11-23','2018-11-26','2018-11-27','2018-11-28','2018-11-29','2018-11-30']"
   ]
  },
  {
   "cell_type": "code",
   "execution_count": 3,
   "metadata": {},
   "outputs": [],
   "source": [
    "company_open = []\n",
    "company_close = []\n",
    "volume = []\n",
    "dow_jones = pd.read_csv('dow_jones.csv')\n",
    "ticker = dow_jones['Ticker'].tolist()\n",
    "for company in ticker:\n",
    "    df=web.DataReader(company,'yahoo',start,end)    #API call to extract stock price data of a company\n",
    "    company_open.append(df['Open'].tolist())        #to extract opening stock price\n",
    "    company_close.append(df['Close'].tolist())      #to extract closing stock price\n",
    "    volume.append(df['Volume'].tolist())            #to extract volume of stocks traded   "
   ]
  },
  {
   "cell_type": "code",
   "execution_count": 4,
   "metadata": {},
   "outputs": [],
   "source": [
    "dow_jones = pd.read_csv('dow_jones.csv')\n",
    "ticker = dow_jones['Ticker'].tolist()"
   ]
  },
  {
   "cell_type": "code",
   "execution_count": 5,
   "metadata": {},
   "outputs": [],
   "source": [
    "previous_1 = []\n",
    "previous_2 = []\n",
    "previous_3 = []\n",
    "previous_4 = []\n",
    "previous_5 = []\n",
    "company = []\n",
    "date = []\n",
    "volumetraded = []\n",
    "company_percent = []\n",
    "for i in range(0,len(ticker)):\n",
    "    for j in range(5,10):    #to loop from Nov 26 to Nov 30\n",
    "        company.append('$'+ticker[i])\n",
    "        date.append(dates[j])\n",
    "        company_percent.append(((company_close[i][j]-company_open[i][j])/company_open[i][j])*100)   #percentage change in stock price\n",
    "        previous_1.append(((company_close[i][j-1]-company_open[i][j-1])/company_open[i][j-1])*100)  #previous day's percentage change\n",
    "        previous_2.append(((company_close[i][j-2]-company_open[i][j-2])/company_open[i][j-2])*100)\n",
    "        previous_3.append(((company_close[i][j-3]-company_open[i][j-3])/company_open[i][j-3])*100)\n",
    "        previous_4.append(((company_close[i][j-4]-company_open[i][j-4])/company_open[i][j-4])*100)\n",
    "        previous_5.append(((company_close[i][j-5]-company_open[i][j-5])/company_open[i][j-5])*100)\n",
    "        volumetraded.append(volume[i][j-1])    #previous day's volume traded"
   ]
  },
  {
   "cell_type": "code",
   "execution_count": 6,
   "metadata": {},
   "outputs": [],
   "source": [
    "percentchanges = pd.DataFrame({'Company':company,'Date':date,'PercentChange':company_percent,\n",
    "                               'previous_1':previous_1,'previous_2':previous_2,\n",
    "                              'previous_3':previous_3,'previous_4':previous_4,'previous_5':previous_5})\n",
    "percentchanges.to_csv('percentchanges.csv', index=False)"
   ]
  },
  {
   "cell_type": "markdown",
   "metadata": {},
   "source": [
    "# Extracting DJIA values"
   ]
  },
  {
   "cell_type": "code",
   "execution_count": 7,
   "metadata": {},
   "outputs": [],
   "source": [
    "from bs4 import BeautifulSoup as bs\n",
    "from selenium import webdriver\n",
    "from selenium.webdriver.chrome.options import Options\n",
    "chrome_options = Options()\n",
    "chrome_options.add_argument('--headless')\n",
    "chrome_options.add_argument('--no-sandbox')\n",
    "chrome_options.add_argument('--disable-dev-shm-usage')\n",
    "driver = webdriver.Chrome(options = chrome_options)"
   ]
  },
  {
   "cell_type": "code",
   "execution_count": 8,
   "metadata": {},
   "outputs": [],
   "source": [
    "import datetime\n",
    "import time\n",
    "\n",
    "today = datetime.datetime.today().strftime('%b %d, %Y')\n",
    "unix_today = time.mktime(datetime.datetime.strptime(today,'%b %d, %Y').timetuple())\n",
    "#print(unix_today)"
   ]
  },
  {
   "cell_type": "code",
   "execution_count": 9,
   "metadata": {},
   "outputs": [
    {
     "data": {
      "text/plain": [
       "<bound method WebDriver.quit of <selenium.webdriver.chrome.webdriver.WebDriver (session=\"4b296e9a1e82389c1a88c02da038f548\")>>"
      ]
     },
     "execution_count": 9,
     "metadata": {},
     "output_type": "execute_result"
    }
   ],
   "source": [
    "#url = 'https://finance.yahoo.com/quote/%5EDJI/history?period1=1512104400&period2=' + str(unix_today) + '&interval=1d&filter=history&frequency=1d'\n",
    "url = \"https://finance.yahoo.com/quote/%5EDJI/history?period1=1542344400&period2=1543554000&interval=1d&filter=history&frequency=1d\"\n",
    "\n",
    "driver.get(url)\n",
    "assert '^DJI' in driver.title # Wait for the page to load #could even put in a sleep command to allow the code to stay still a bit before moving to the next line\n",
    "html = driver.page_source # Get the html of the page\n",
    "soup = bs(html, 'html5lib')\n",
    "\n",
    "details_div = \"\"\n",
    "for div in soup.find_all('div'):\n",
    "    if(div.get('class') is not None):\n",
    "        if(len(div.get('class'))>0 and ' '.join(div.get('class')) == \"Pb(10px) Ovx(a) W(100%)\"):\n",
    "            details_div = div\n",
    "            \n",
    "tr_list = []  \n",
    "#print(details_div)\n",
    "for tr in details_div.find_all('tr'):\n",
    "    if(tr.get('class') is not None):\n",
    "        if(' '.join(tr.get('class')) == \"BdT Bdc($c-fuji-grey-c) Ta(end) Fz(s) Whs(nw)\"):\n",
    "            tr_list.append(tr)\n",
    "\n",
    "driver.quit"
   ]
  },
  {
   "cell_type": "code",
   "execution_count": 10,
   "metadata": {},
   "outputs": [],
   "source": [
    "details_list = []\n",
    "for tr in tr_list[0:10]:\n",
    "    current_td_list = []\n",
    "    current_details = {}\n",
    "    for td in tr.find_all('td'):\n",
    "        current_td_list.append(td.find('span').text)\n",
    "    current_details['date'] = current_td_list[0]\n",
    "    current_details['open'] = current_td_list[1]    \n",
    "    current_details['high'] = current_td_list[2]    \n",
    "    current_details['low'] = current_td_list[3]    \n",
    "    current_details['close'] = current_td_list[4]    \n",
    "    current_details['adjclose'] = current_td_list[5]    \n",
    "    current_details['vol'] = current_td_list[6]    \n",
    "    details_list.append(current_td_list)\n",
    "    "
   ]
  },
  {
   "cell_type": "code",
   "execution_count": 11,
   "metadata": {},
   "outputs": [],
   "source": [
    "date = []\n",
    "open_price = []\n",
    "high_price = []\n",
    "low_price = []\n",
    "close_price = []\n",
    "sharestraded_volume = []\n",
    "\n",
    "for x in range (0, len(details_list)):\n",
    "    date.append(details_list[x][0])\n",
    "    open_price.append(details_list[x][1])\n",
    "    high_price.append(details_list[x][2])\n",
    "    low_price.append(details_list[x][3])\n",
    "    close_price.append(details_list[x][4])\n",
    "    sharestraded_volume.append(details_list[x][6])"
   ]
  },
  {
   "cell_type": "code",
   "execution_count": 12,
   "metadata": {},
   "outputs": [],
   "source": [
    "import csv #use library to create csv file\n",
    "with open('DJIA.csv', mode='w', newline='') as DJIA:\n",
    "    DJIA_writer = csv.writer(DJIA) #helps avoid separation on commas appearing within the review text\n",
    "\n",
    "    DJIA_writer.writerow(['Date','Open','High','Low','Close','VolumeTraded'])\n",
    "    for x in range(0, len(date)):\n",
    "        DJIA_writer.writerow([date[x], open_price[x], high_price[x],low_price[x],close_price[x],sharestraded_volume[x]])"
   ]
  },
  {
   "cell_type": "markdown",
   "metadata": {},
   "source": [
    "# Appending Sentiment Scores and DJIA values to csv"
   ]
  },
  {
   "cell_type": "code",
   "execution_count": 13,
   "metadata": {},
   "outputs": [],
   "source": [
    "from datetime import datetime,timedelta\n",
    "import pandas as pd\n",
    "import math"
   ]
  },
  {
   "cell_type": "code",
   "execution_count": 14,
   "metadata": {},
   "outputs": [],
   "source": [
    "percentchanges = pd.read_csv('percentchanges.csv')\n",
    "tweets = pd.read_csv('TweetScore.csv')\n",
    "tweets['Date'] = pd.to_datetime(tweets['Date']).dt.date\n",
    "percentchanges['Date'] = pd.to_datetime(percentchanges['Date'])\n",
    "comments = pd.read_csv('CommentScore.csv')\n",
    "comments['Date'] = pd.to_datetime(comments['Date']).dt.date\n",
    "DJIA = pd.read_csv('DJIA.csv')"
   ]
  },
  {
   "cell_type": "code",
   "execution_count": 15,
   "metadata": {},
   "outputs": [],
   "source": [
    "tweetavg = []\n",
    "commentavg = []\n",
    "dowjoneschange = []\n",
    "company = percentchanges['Company'].tolist()\n",
    "date = percentchanges['Date'].tolist()\n",
    "for i in range(0,len(company)):                 #calculating mean sentiment scores of all companies for all days\n",
    "    testdata = tweets[((tweets['Date'] == date[i].date()-timedelta(days=1)) \n",
    "                     & (tweets['Company'] == company[i]))]\n",
    "    tweetavg.append((testdata['GeneralScore'].mean()+testdata['LMScore'].mean())/2)\n",
    "    testdata2 = comments[((comments['Date'] == date[i].date()-timedelta(days=1)) \n",
    "                     & (comments['Company'] == company[i]))]\n",
    "    commentavg.append((testdata2['GeneralScore'].mean()+testdata2['LMScore'].mean())/2)\n",
    "        \n",
    "for i in range(0,len(tweetavg)):\n",
    "    if (math.isnan(float(tweetavg[i])) == True):\n",
    "        tweetavg[i] = 0\n",
    "\n",
    "for i in range(0,len(commentavg)):\n",
    "    if (math.isnan(float(commentavg[i])) == True):\n",
    "        commentavg[i] = 0\n",
    "\n",
    "average = pd.DataFrame({'AverageTweet':tweetavg,'AverageComment':commentavg})\n",
    "percentchanges = percentchanges.join(average)\n",
    "percentchanges.to_csv('percentchanges.csv', index=False)"
   ]
  },
  {
   "cell_type": "code",
   "execution_count": 16,
   "metadata": {},
   "outputs": [],
   "source": [
    "requireddates = ['']        \n",
    "change = DJIA['Date'].tolist()\n",
    "opendow = DJIA['Open'].tolist()\n",
    "closedow = DJIA['Close'].tolist()\n",
    "lowdow = DJIA['Low'].tolist()\n",
    "highdow = DJIA['High'].tolist()\n",
    "volume = DJIA['VolumeTraded'].tolist()\n",
    "dowchanges = []\n",
    "DJHigh = []\n",
    "DJLow = []\n",
    "VolumeTraded = []\n",
    "for i in range(0,len(change)):\n",
    "    if (change[i] == 'Nov 26, 2018'):\n",
    "        index = i\n",
    "for i in range(0,30):                     #appending DJIA values\n",
    "    for j in range(index,index-5,-1):\n",
    "        closed = float(closedow[j+1].replace(',',''))\n",
    "        opened = float(opendow[j+1].replace(',',''))\n",
    "        dowchanges.append((closed-opened)/opened)\n",
    "        low = float(lowdow[j+1].replace(',',''))\n",
    "        high = float(highdow[j+1].replace(',',''))\n",
    "        volumetrade = int(volume[j+1].replace(',',''))\n",
    "        DJHigh.append(high)\n",
    "        DJLow.append(low)\n",
    "        VolumeTraded.append(volumetrade)\n",
    "DJ = pd.DataFrame({'DJChange':dowchanges,'DJHigh':DJHigh,'DJLow':DJLow,'VolumeTraded':VolumeTraded})\n",
    "percentchanges = percentchanges.join(DJ)\n",
    "percentchanges.to_csv('percentchanges.csv', index=False)        "
   ]
  },
  {
   "cell_type": "code",
   "execution_count": null,
   "metadata": {},
   "outputs": [],
   "source": []
  }
 ],
 "metadata": {
  "kernelspec": {
   "display_name": "Python 3",
   "language": "python",
   "name": "python3"
  },
  "language_info": {
   "codemirror_mode": {
    "name": "ipython",
    "version": 3
   },
   "file_extension": ".py",
   "mimetype": "text/x-python",
   "name": "python",
   "nbconvert_exporter": "python",
   "pygments_lexer": "ipython3",
   "version": "3.6.7"
  }
 },
 "nbformat": 4,
 "nbformat_minor": 2
}
